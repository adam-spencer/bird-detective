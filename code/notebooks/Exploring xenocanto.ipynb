{
 "cells": [
  {
   "cell_type": "markdown",
   "id": "5f68543f-b10b-4c2a-b36c-348139f8a1ed",
   "metadata": {},
   "source": [
    "# Exploring the `xenocanto` Library\n",
    "\n",
    "I'm new to this library so this notebook is a way for me to build an understanding with the goal of being able to start importing data to train models from."
   ]
  },
  {
   "cell_type": "code",
   "execution_count": 29,
   "id": "20102508-607e-462b-b89e-8be94c6e611d",
   "metadata": {},
   "outputs": [],
   "source": [
    "import xenocanto\n",
    "import pandas as pd\n",
    "import numpy as np\n",
    "import matplotlib.pyplot as plt\n",
    "import requests"
   ]
  },
  {
   "cell_type": "code",
   "execution_count": 33,
   "id": "8c8bd9cc-e70e-4400-ae4f-93bbd80de258",
   "metadata": {},
   "outputs": [
    {
     "name": "stdout",
     "output_type": "stream",
     "text": [
      "Requesting data from URL: https://xeno-canto.org/api/v3/recordings?query=Turdus merula cnt:\"United Kingdom\" q:A\n",
      "An error occurred with the network request: 404 Client Error: Not Found for url: https://xeno-canto.org/api/v3/recordings?query=Turdus%20merula%20cnt:%22United%20Kingdom%22%20q:A\n"
     ]
    }
   ],
   "source": [
    "import requests\n",
    "import os\n",
    "\n",
    "# --- Your Search Parameters ---\n",
    "BIRD_NAME = \"Turdus merula\"  # Scientific name for Eurasian Blackbird\n",
    "COUNTRY = \"United Kingdom\"\n",
    "QUALITY = \"A\" # Get only the best quality recordings\n",
    "\n",
    "# --- Create the API Request URL ---\n",
    "# The new API v3 endpoint is much simpler.\n",
    "# We build a query string like a normal web search.\n",
    "query = f'{BIRD_NAME} cnt:\"{COUNTRY}\" q:{QUALITY}'\n",
    "url = f'https://xeno-canto.org/api/v3/recordings?query={query}'\n",
    "\n",
    "print(f\"Requesting data from URL: {url}\")\n",
    "\n",
    "# --- Make the Request and Get the Data ---\n",
    "try:\n",
    "    response = requests.get(url)\n",
    "    response.raise_for_status()  # This will raise an error for bad responses (4xx or 5xx)\n",
    "    \n",
    "    data = response.json()\n",
    "    \n",
    "    # --- Process the Results ---\n",
    "    num_recordings = data.get('numRecordings', 0)\n",
    "    \n",
    "    if int(num_recordings) > 0:\n",
    "        print(f\"Successfully found {num_recordings} recordings.\")\n",
    "        \n",
    "        # Loop through each recording and print its details\n",
    "        for recording in data['recordings']:\n",
    "            # The direct download link is in the 'file' field\n",
    "            download_link = recording['file']\n",
    "            \n",
    "            # You also get lots of useful metadata\n",
    "            recording_id = recording['id']\n",
    "            length = recording['length']\n",
    "            location = recording['loc']\n",
    "            \n",
    "            print(f\" - ID: {recording_id}, Length: {length}, Location: {location}\")\n",
    "            print(f\"   Download Link: {download_link}\")\n",
    "            \n",
    "            # You could add code here to download the file using its link\n",
    "            # For example:\n",
    "            # audio_response = requests.get(download_link)\n",
    "            # with open(f'{recording_id}.mp3', 'wb') as f:\n",
    "            #     f.write(audio_response.content)\n",
    "\n",
    "    else:\n",
    "        print(\"Query successful, but no recordings found matching your criteria.\")\n",
    "\n",
    "except requests.exceptions.RequestException as e:\n",
    "    print(f\"An error occurred with the network request: {e}\")\n",
    "except KeyError:\n",
    "    print(\"Could not parse the JSON response. The structure might have changed.\")\n"
   ]
  },
  {
   "cell_type": "code",
   "execution_count": null,
   "id": "9473b6ac-ecd8-426f-8181-d4a08641e5ed",
   "metadata": {},
   "outputs": [],
   "source": []
  }
 ],
 "metadata": {
  "kernelspec": {
   "display_name": "Python 3 (ipykernel)",
   "language": "python",
   "name": "python3"
  },
  "language_info": {
   "codemirror_mode": {
    "name": "ipython",
    "version": 3
   },
   "file_extension": ".py",
   "mimetype": "text/x-python",
   "name": "python",
   "nbconvert_exporter": "python",
   "pygments_lexer": "ipython3",
   "version": "3.13.5"
  }
 },
 "nbformat": 4,
 "nbformat_minor": 5
}
